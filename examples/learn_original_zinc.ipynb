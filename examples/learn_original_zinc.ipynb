{
 "cells": [
  {
   "attachments": {},
   "cell_type": "markdown",
   "metadata": {},
   "source": [
    "# Count star structures\n",
    "... without considering node/edge attributes. Also ignore ducplicate edges and make graph undirected.\n"
   ]
  },
  {
   "cell_type": "code",
   "execution_count": 1,
   "metadata": {},
   "outputs": [
    {
     "name": "stderr",
     "output_type": "stream",
     "text": [
      "c:\\Users\\smaimo\\Miniconda3\\envs\\gnns\\lib\\site-packages\\tqdm\\auto.py:21: TqdmWarning: IProgress not found. Please update jupyter and ipywidgets. See https://ipywidgets.readthedocs.io/en/stable/user_install.html\n",
      "  from .autonotebook import tqdm as notebook_tqdm\n"
     ]
    }
   ],
   "source": [
    "\"\"\"example code for counting subgraph structures\"\"\"\n",
    "from subgraph_counting import pattern, conversion, datasets\n",
    "from subgraph_counting.graph import Graph\n",
    "from torch_geometric.loader import DataLoader\n",
    "import torch\n",
    "\n",
    "PLOT_ROOT = '../data/figures'\n",
    "DATA_ZINC = '../data/datasets/ZINC'\n",
    "device = 'cuda'\n"
   ]
  },
  {
   "cell_type": "code",
   "execution_count": 2,
   "metadata": {},
   "outputs": [],
   "source": [
    "# get ZINC dataset\n",
    "datasets_pyg = datasets.get_zinc_dataset(f'{DATA_ZINC}/original')\n",
    "node_feature_size = 1\n",
    "target_features_size = 1\n",
    "batch_size = 100\n",
    "criterion = torch.nn.L1Loss()"
   ]
  },
  {
   "cell_type": "code",
   "execution_count": 3,
   "metadata": {},
   "outputs": [],
   "source": [
    "train_loader = DataLoader(datasets_pyg['train'], batch_size, shuffle=True)\n",
    "test_loader = DataLoader(datasets_pyg['test'], batch_size)"
   ]
  },
  {
   "cell_type": "markdown",
   "metadata": {},
   "source": [
    "#### Show target statistics"
   ]
  },
  {
   "cell_type": "code",
   "execution_count": 4,
   "metadata": {},
   "outputs": [
    {
     "name": "stdout",
     "output_type": "stream",
     "text": [
      "Graphs: 10000\n",
      "Avg Target: 0.015297329984605312\n",
      "Max Feature: tensor([20])\n"
     ]
    }
   ],
   "source": [
    "# statistics\n",
    "targets = [data.y for data in datasets_pyg['train']]\n",
    "features = [torch.max(data.x, dim=0).values for data in datasets_pyg['train']]\n",
    "\n",
    "print(f'Graphs: {len(targets)}')\n",
    "print(f'Avg Target: {torch.mean(torch.stack(targets))}')\n",
    "print(f'Max Feature: {torch.max(torch.stack(features), dim=0).values}')\n"
   ]
  },
  {
   "attachments": {},
   "cell_type": "markdown",
   "metadata": {},
   "source": [
    "# Train"
   ]
  },
  {
   "attachments": {},
   "cell_type": "markdown",
   "metadata": {},
   "source": [
    "#### Baselines"
   ]
  },
  {
   "cell_type": "code",
   "execution_count": 5,
   "metadata": {},
   "outputs": [
    {
     "name": "stdout",
     "output_type": "stream",
     "text": [
      "Baseline_MAX Train MAE: 3.7895, Test MAE: 3.7924\n"
     ]
    }
   ],
   "source": [
    "\n",
    "def max(loader):\n",
    "    values = []\n",
    "    for data in loader:\n",
    "        values.append(data.y.reshape(batch_size, target_features_size).float())\n",
    "    values = torch.stack(values)\n",
    "    max_vals = torch.max(values, dim=0).values\n",
    "    max_vals = torch.max(max_vals, dim=0).values\n",
    "    return max_vals\n",
    "\n",
    "def test(loader, reference):\n",
    "    reference = reference.repeat(batch_size ,1)\n",
    "    losses = []\n",
    "    for data in loader:  # Iterate in batches over the training/test dataset.\n",
    "        y = data.y.reshape(batch_size, target_features_size).float()\n",
    "        loss = criterion(y, reference)\n",
    "        losses.append(loss)\n",
    "    return torch.mean(torch.as_tensor(losses)).item()\n",
    "\n",
    "max_train = max(train_loader)\n",
    "max_test = max(test_loader)\n",
    "max_vals = torch.max(max_train, max_test)\n",
    "train_acc = test(train_loader, max_vals)\n",
    "test_acc = test(test_loader, max_vals)\n",
    "print(f'Baseline_MAX Train MAE: {train_acc:.4f}, Test MAE: {test_acc:.4f}')"
   ]
  },
  {
   "cell_type": "code",
   "execution_count": 7,
   "metadata": {},
   "outputs": [
    {
     "name": "stdout",
     "output_type": "stream",
     "text": [
      "Baseline_MEAN Train MAE: 1.5109, Test MAE: 1.5768\n"
     ]
    }
   ],
   "source": [
    "\n",
    "def mean(loader):\n",
    "    values = []\n",
    "    for data in loader:\n",
    "        values.append(data.y.reshape(batch_size, target_features_size).float())\n",
    "    values = torch.stack(values)\n",
    "    max_vals = torch.mean(values, dim=0)\n",
    "    max_vals = torch.mean(max_vals, dim=0)\n",
    "    return max_vals\n",
    "\n",
    "def test(loader, reference):\n",
    "    reference = reference.repeat(batch_size ,1)\n",
    "    losses = []\n",
    "    for data in loader:  # Iterate in batches over the training/test dataset.\n",
    "        y = data.y.reshape(batch_size, target_features_size).float()\n",
    "        loss = criterion(y, reference)\n",
    "        losses.append(loss)\n",
    "    return torch.mean(torch.as_tensor(losses)).item()\n",
    "\n",
    "mean_train = mean(train_loader)\n",
    "mean_test = mean(test_loader)\n",
    "mean_vals = mean_train\n",
    "train_acc = test(train_loader, mean_vals)\n",
    "test_acc = test(test_loader, mean_vals)\n",
    "print(f'Baseline_MEAN Train MAE: {train_acc:.4f}, Test MAE: {test_acc:.4f}')"
   ]
  },
  {
   "attachments": {},
   "cell_type": "markdown",
   "metadata": {},
   "source": [
    "#### Model\n",
    "- GraphConv + mlp\n"
   ]
  },
  {
   "cell_type": "code",
   "execution_count": 8,
   "metadata": {},
   "outputs": [],
   "source": [
    "from torch_geometric.nn import GraphConv, Linear, global_add_pool, BatchNorm\n",
    "from torch.nn import ModuleList, Sequential\n",
    "import torch.nn as nn\n",
    "import torch.nn.functional as F\n",
    "from ogb.graphproppred.mol_encoder import AtomEncoder\n",
    "\n",
    "class GraphConvNetDeep(torch.nn.Module):\n",
    "    def __init__(self, graphConvLayers, activation, readoutLayer,\n",
    "                 node_emb = None,\n",
    "                 prePoolMlp = None, postPoolMlp = None, \n",
    "                 batchNorm = 0, dropOut = 0,\n",
    "                 differenceResidualConnections = True):\n",
    "        super().__init__()\n",
    "        torch.manual_seed(12345)\n",
    "        self.node_emb = node_emb\n",
    "        self.conv = graphConvLayers\n",
    "        self.activation = activation\n",
    "        if batchNorm > 0:\n",
    "            self.batchNorm = ModuleList([BatchNorm(batchNorm) for _ in range(len(graphConvLayers))])\n",
    "        else:\n",
    "            self.batchNorm = None\n",
    "        self.prePoolMlp = prePoolMlp\n",
    "        self.postPoolMlp = postPoolMlp\n",
    "        self.dropOut = dropOut\n",
    "        self.readoutLayer = readoutLayer\n",
    "        self.differenceResidualConnections = differenceResidualConnections\n",
    "\n",
    "    def forward(self, x, edge_index, batch):\n",
    "        # one convolution\n",
    "        # one mpl (e.g. linear relu linear relu linear ...)\n",
    "        # idea: annotate stars with 1 to 8 (8 dimensions), low loss -> network works\n",
    "        # todo: cycles -> of size x.\n",
    "        # Report: \n",
    "        # GCN -> does not work with ones (avg.)\n",
    "        \n",
    "\n",
    "        # 1. Obtain node embeddings\n",
    "        if self.node_emb is not None:\n",
    "            x = self.node_emb(x.int())\n",
    "        drc = []\n",
    "        if self.batchNorm is not None:\n",
    "            for layer, batch_norm in zip(self.conv, self.batchNorm):\n",
    "                h = self.activation(batch_norm(layer(x, edge_index)))\n",
    "                if self.differenceResidualConnections:\n",
    "                    drc.append(h)\n",
    "                    x = x + h\n",
    "                else:\n",
    "                    x = h\n",
    "        else:\n",
    "            for layer in self.conv:\n",
    "                h = self.activation(layer(x, edge_index))\n",
    "                if self.differenceResidualConnections:\n",
    "                    drc.append(h)\n",
    "                    x = x + h\n",
    "                else:\n",
    "                    x = h\n",
    "        if len(drc) > 0:\n",
    "            x = torch.cat([x, *drc], dim=-1)\n",
    "        if self.prePoolMlp is not None:\n",
    "            x = self.prePoolMlp(x)\n",
    "\n",
    "        x = global_add_pool(x, batch)  # [batch_size, hidden_channels]\n",
    "\n",
    "        if self.postPoolMlp is not None:\n",
    "            x = self.postPoolMlp(x)\n",
    "\n",
    "        if self.dropOut > 0:\n",
    "            x = F.dropout(x, p=self.dropOut, training=self.training)\n",
    "        # 4. Apply a final linear layer\n",
    "        x = self.readoutLayer(x)\n",
    "        \n",
    "        return x\n",
    "\n"
   ]
  },
  {
   "cell_type": "code",
   "execution_count": 12,
   "metadata": {},
   "outputs": [],
   "source": [
    "# original ZINC task\n",
    "hidden_size = 5\n",
    "differenceResidualConnections=False\n",
    "\n",
    "node_embedding = None\n",
    "channelsGraphConv = [node_feature_size, hidden_size, hidden_size, hidden_size, hidden_size]\n",
    "gcLayers = ModuleList([GraphConv(c1, c2) for c1, c2 in zip(channelsGraphConv[:-1], channelsGraphConv[1:])])\n",
    "\n",
    "channelsLinear = []\n",
    "mlp_hirachy = [[Linear(c1, c2), nn.ReLU()] for c1, c2 in zip(channelsLinear[:-1], channelsLinear[1:])]\n",
    "mlp_flat_pre = Sequential(*[item for sublist in mlp_hirachy for item in sublist])\n",
    "if differenceResidualConnections:\n",
    "    channelsLinear = [hidden_size * (len(channelsGraphConv)), hidden_size]\n",
    "else:\n",
    "    channelsLinear = []\n",
    "mlp_hirachy = [[Linear(c1, c2), nn.ReLU()] for c1, c2 in zip(channelsLinear[:-1], channelsLinear[1:])]\n",
    "mlp_flat_post = Sequential(*[item for sublist in mlp_hirachy for item in sublist])\n",
    "\n",
    "readoutLayer = Linear(hidden_size, target_features_size)\n",
    "activation = nn.ReLU()\n",
    "model = GraphConvNetDeep(gcLayers,\n",
    "                         activation,\n",
    "                         readoutLayer,\n",
    "                         node_embedding,\n",
    "                         prePoolMlp=mlp_flat_pre,\n",
    "                         postPoolMlp=mlp_flat_post,\n",
    "                         batchNorm=hidden_size,\n",
    "                         dropOut=.1,\n",
    "                         differenceResidualConnections=False).to(device)"
   ]
  },
  {
   "cell_type": "code",
   "execution_count": 13,
   "metadata": {},
   "outputs": [
    {
     "name": "stdout",
     "output_type": "stream",
     "text": [
      "GraphConvNetDeep(\n",
      "  (conv): ModuleList(\n",
      "    (0): GraphConv(1, 5)\n",
      "    (1): GraphConv(5, 5)\n",
      "    (2): GraphConv(5, 5)\n",
      "    (3): GraphConv(5, 5)\n",
      "  )\n",
      "  (activation): ReLU()\n",
      "  (batchNorm): ModuleList(\n",
      "    (0): BatchNorm(5)\n",
      "    (1): BatchNorm(5)\n",
      "    (2): BatchNorm(5)\n",
      "    (3): BatchNorm(5)\n",
      "  )\n",
      "  (prePoolMlp): Sequential()\n",
      "  (postPoolMlp): Sequential()\n",
      "  (readoutLayer): Linear(5, 1, bias=True)\n",
      ")\n",
      "Total trainable parameters: 226\n",
      "Epoch: 001, Train MAE: 1.7500, Test MAE: 1.7984\n",
      "Epoch: 002, Train MAE: 1.2554, Test MAE: 1.3131\n",
      "Epoch: 003, Train MAE: 1.1475, Test MAE: 1.2076\n",
      "Epoch: 004, Train MAE: 1.0954, Test MAE: 1.1520\n",
      "Epoch: 005, Train MAE: 1.0654, Test MAE: 1.1148\n",
      "Epoch: 006, Train MAE: 1.0460, Test MAE: 1.0928\n",
      "Epoch: 007, Train MAE: 1.0288, Test MAE: 1.0722\n",
      "Epoch: 008, Train MAE: 1.0070, Test MAE: 1.0487\n",
      "Epoch: 009, Train MAE: 0.9907, Test MAE: 1.0289\n",
      "Epoch: 010, Train MAE: 0.9754, Test MAE: 1.0187\n",
      "Epoch: 011, Train MAE: 0.9560, Test MAE: 1.0020\n",
      "Epoch: 012, Train MAE: 0.9291, Test MAE: 0.9797\n",
      "Epoch: 013, Train MAE: 0.9160, Test MAE: 0.9655\n",
      "Epoch: 014, Train MAE: 0.8989, Test MAE: 0.9516\n",
      "Epoch: 015, Train MAE: 0.8864, Test MAE: 0.9430\n",
      "Epoch: 016, Train MAE: 0.8784, Test MAE: 0.9392\n",
      "Epoch: 017, Train MAE: 0.8780, Test MAE: 0.9368\n",
      "Epoch: 018, Train MAE: 0.8705, Test MAE: 0.9299\n",
      "Epoch: 019, Train MAE: 0.8663, Test MAE: 0.9263\n",
      "Epoch: 020, Train MAE: 0.8681, Test MAE: 0.9295\n",
      "Epoch: 021, Train MAE: 0.8617, Test MAE: 0.9199\n",
      "Epoch: 022, Train MAE: 0.8605, Test MAE: 0.9168\n",
      "Epoch: 023, Train MAE: 0.8579, Test MAE: 0.9167\n",
      "Epoch: 024, Train MAE: 0.8555, Test MAE: 0.9158\n",
      "Epoch: 025, Train MAE: 0.8507, Test MAE: 0.9064\n",
      "Epoch: 026, Train MAE: 0.8509, Test MAE: 0.9112\n",
      "Epoch: 027, Train MAE: 0.8495, Test MAE: 0.9073\n",
      "Epoch: 028, Train MAE: 0.8473, Test MAE: 0.9077\n",
      "Epoch: 029, Train MAE: 0.8435, Test MAE: 0.9018\n",
      "Epoch: 030, Train MAE: 0.8473, Test MAE: 0.9069\n",
      "Epoch: 031, Train MAE: 0.8440, Test MAE: 0.9041\n",
      "Epoch: 032, Train MAE: 0.8379, Test MAE: 0.8982\n",
      "Epoch: 033, Train MAE: 0.8434, Test MAE: 0.9040\n",
      "Epoch: 034, Train MAE: 0.8401, Test MAE: 0.8992\n",
      "Epoch: 035, Train MAE: 0.8405, Test MAE: 0.9002\n",
      "Epoch: 036, Train MAE: 0.8495, Test MAE: 0.9081\n",
      "Epoch: 037, Train MAE: 0.8390, Test MAE: 0.8989\n",
      "Epoch: 038, Train MAE: 0.8323, Test MAE: 0.8918\n",
      "Epoch: 039, Train MAE: 0.8353, Test MAE: 0.8966\n",
      "Epoch: 040, Train MAE: 0.8316, Test MAE: 0.8925\n",
      "Epoch: 041, Train MAE: 0.8315, Test MAE: 0.8921\n",
      "Epoch: 042, Train MAE: 0.8370, Test MAE: 0.8969\n",
      "Epoch: 043, Train MAE: 0.8347, Test MAE: 0.8951\n",
      "Epoch: 044, Train MAE: 0.8313, Test MAE: 0.8909\n",
      "Epoch: 045, Train MAE: 0.8317, Test MAE: 0.8891\n",
      "Epoch: 046, Train MAE: 0.8379, Test MAE: 0.8958\n",
      "Epoch: 047, Train MAE: 0.8391, Test MAE: 0.8966\n",
      "Epoch: 048, Train MAE: 0.8280, Test MAE: 0.8891\n",
      "Epoch: 049, Train MAE: 0.8341, Test MAE: 0.8932\n",
      "Epoch: 050, Train MAE: 0.8309, Test MAE: 0.8921\n",
      "Epoch: 051, Train MAE: 0.8342, Test MAE: 0.8919\n",
      "Epoch: 052, Train MAE: 0.8311, Test MAE: 0.8884\n",
      "Epoch: 053, Train MAE: 0.8231, Test MAE: 0.8832\n",
      "Epoch: 054, Train MAE: 0.8226, Test MAE: 0.8814\n",
      "Epoch: 055, Train MAE: 0.8228, Test MAE: 0.8826\n",
      "Epoch: 056, Train MAE: 0.8367, Test MAE: 0.8944\n",
      "Epoch: 057, Train MAE: 0.8237, Test MAE: 0.8839\n",
      "Epoch: 058, Train MAE: 0.8290, Test MAE: 0.8877\n",
      "Epoch: 059, Train MAE: 0.8237, Test MAE: 0.8843\n",
      "Epoch: 060, Train MAE: 0.8186, Test MAE: 0.8798\n",
      "Epoch: 061, Train MAE: 0.8188, Test MAE: 0.8799\n",
      "Epoch: 062, Train MAE: 0.8178, Test MAE: 0.8774\n",
      "Epoch: 063, Train MAE: 0.8170, Test MAE: 0.8748\n",
      "Epoch: 064, Train MAE: 0.8188, Test MAE: 0.8789\n",
      "Epoch: 065, Train MAE: 0.8122, Test MAE: 0.8726\n",
      "Epoch: 066, Train MAE: 0.8174, Test MAE: 0.8766\n",
      "Epoch: 067, Train MAE: 0.8124, Test MAE: 0.8730\n",
      "Epoch: 068, Train MAE: 0.8147, Test MAE: 0.8757\n",
      "Epoch: 069, Train MAE: 0.8126, Test MAE: 0.8716\n",
      "Epoch: 070, Train MAE: 0.8119, Test MAE: 0.8718\n",
      "Epoch: 071, Train MAE: 0.8096, Test MAE: 0.8696\n",
      "Epoch: 072, Train MAE: 0.8075, Test MAE: 0.8682\n",
      "Epoch: 073, Train MAE: 0.8253, Test MAE: 0.8858\n",
      "Epoch: 074, Train MAE: 0.8063, Test MAE: 0.8687\n",
      "Epoch: 075, Train MAE: 0.8077, Test MAE: 0.8700\n",
      "Epoch: 076, Train MAE: 0.8012, Test MAE: 0.8612\n",
      "Epoch: 077, Train MAE: 0.8065, Test MAE: 0.8695\n",
      "Epoch: 078, Train MAE: 0.7994, Test MAE: 0.8625\n",
      "Epoch: 079, Train MAE: 0.8154, Test MAE: 0.8748\n",
      "Epoch: 080, Train MAE: 0.8089, Test MAE: 0.8701\n",
      "Epoch: 081, Train MAE: 0.8011, Test MAE: 0.8633\n",
      "Epoch: 082, Train MAE: 0.8044, Test MAE: 0.8656\n",
      "Epoch: 083, Train MAE: 0.8046, Test MAE: 0.8673\n",
      "Epoch: 084, Train MAE: 0.7949, Test MAE: 0.8575\n",
      "Epoch: 085, Train MAE: 0.7937, Test MAE: 0.8563\n",
      "Epoch: 086, Train MAE: 0.7905, Test MAE: 0.8528\n",
      "Epoch: 087, Train MAE: 0.7898, Test MAE: 0.8526\n",
      "Epoch: 088, Train MAE: 0.7965, Test MAE: 0.8581\n",
      "Epoch: 089, Train MAE: 0.7985, Test MAE: 0.8595\n",
      "Epoch: 090, Train MAE: 0.7892, Test MAE: 0.8512\n",
      "Epoch: 091, Train MAE: 0.7836, Test MAE: 0.8460\n",
      "Epoch: 092, Train MAE: 0.7843, Test MAE: 0.8457\n",
      "Epoch: 093, Train MAE: 0.7821, Test MAE: 0.8432\n",
      "Epoch: 094, Train MAE: 0.7780, Test MAE: 0.8366\n",
      "Epoch: 095, Train MAE: 0.7785, Test MAE: 0.8399\n",
      "Epoch: 096, Train MAE: 0.7807, Test MAE: 0.8391\n",
      "Epoch: 097, Train MAE: 0.7757, Test MAE: 0.8362\n",
      "Epoch: 098, Train MAE: 0.7724, Test MAE: 0.8331\n",
      "Epoch: 099, Train MAE: 0.7813, Test MAE: 0.8415\n"
     ]
    },
    {
     "data": {
      "text/plain": [
       "<matplotlib.legend.Legend at 0x1ea0cd69450>"
      ]
     },
     "execution_count": 13,
     "metadata": {},
     "output_type": "execute_result"
    },
    {
     "data": {
      "image/png": "[encoded data removed]",
      "text/plain": [
       "<Figure size 640x480 with 1 Axes>"
      ]
     },
     "metadata": {},
     "output_type": "display_data"
    }
   ],
   "source": [
    "lr=0.0006\n",
    "epochs=100\n",
    "train_loader = DataLoader(datasets_pyg['train'], batch_size)\n",
    "test_loader = DataLoader(datasets_pyg['test'], batch_size)\n",
    "trainable_parameters = sum(p.numel() for p in model.parameters() if p.requires_grad)\n",
    "print(f'{model}\\nTotal trainable parameters: {trainable_parameters}')\n",
    "\n",
    "optimizer = torch.optim.Adam(model.parameters(), lr=lr) #.003\n",
    "\n",
    "def train():\n",
    "    model.train()\n",
    "\n",
    "    for data in train_loader:  # Iterate in batches over the training dataset.\n",
    "         out = model(data.x.float().to(device), data.edge_index.to(device), data.batch.to(device))  # Perform a single forward pass.\n",
    "         loss = criterion(out, data.y.reshape(batch_size, target_features_size).float().to(device))  # Compute the loss.\n",
    "         loss.backward()  # Derive gradients.\n",
    "         optimizer.step()  # Update parameters based on gradients.\n",
    "         optimizer.zero_grad()  # Clear gradients.\n",
    "\n",
    "@torch.no_grad()\n",
    "def test(loader):\n",
    "    model.eval()\n",
    "    losses = []\n",
    "    for data in loader:  # Iterate in batches over the training/test dataset.\n",
    "        out = model(data.x.float().to(device), data.edge_index.to(device), data.batch.to(device))  \n",
    "        loss = criterion(out, data.y.reshape(batch_size, target_features_size).float().to(device))\n",
    "        losses.append(loss)\n",
    "    return torch.mean(torch.as_tensor(losses)).item()\n",
    "\n",
    "train_losses = []\n",
    "test_losses = []\n",
    "\n",
    "for epoch in range(1, epochs):\n",
    "    train()\n",
    "    train_acc = test(train_loader)\n",
    "    train_losses.append(train_acc)\n",
    "    test_acc = test(test_loader)\n",
    "    test_losses.append(test_acc)\n",
    "    print(f'Epoch: {epoch:03d}, Train MAE: {train_acc:.4f}, Test MAE: {test_acc:.4f}')\n",
    "\n",
    "import matplotlib.pyplot as plt\n",
    "plt.plot(train_losses, label=\"training loss\")\n",
    "plt.plot(test_losses, label=\"test loss\")\n",
    "plt.title(\"Loss development\")\n",
    "plt.ylabel(\"Loss\")\n",
    "plt.xlabel(\"Epoch\")\n",
    "plt.legend()"
   ]
  },
  {
   "attachments": {},
   "cell_type": "markdown",
   "metadata": {},
   "source": [
    "# Explain"
   ]
  },
  {
   "attachments": {},
   "cell_type": "markdown",
   "metadata": {},
   "source": [
    "from torch_geometric.data import Data\n",
    "from torch_geometric.explain import Explainer, PGExplainer\n",
    "\n",
    "dataset = datasets_annotated_pyg['val']\n",
    "loader = DataLoader(dataset, batch_size=1, shuffle=True)\n",
    "\n",
    "explainer = Explainer(\n",
    "    model=model,\n",
    "    algorithm=PGExplainer(epochs=30, lr=0.003),\n",
    "    explanation_type='phenomenon',\n",
    "    edge_mask_type='object',\n",
    "    model_config=dict(\n",
    "        mode='regression',\n",
    "        task_level='graph',\n",
    "        return_type='raw',\n",
    "    ),\n",
    "    # Include only the top 10 most important edges:\n",
    "    threshold_config=dict(threshold_type='topk', value=10),\n",
    ")\n",
    "\n",
    "# PGExplainer needs to be trained separately since it is a parametric\n",
    "# explainer i.e it uses a neural network to generate explanations:\n",
    "for epoch in range(30):\n",
    "    for batch in loader:\n",
    "        loss = explainer.algorithm.train(\n",
    "            epoch, model, batch.x, batch.edge_index, target=batch.target)\n",
    "\n",
    "# Generate the explanation for a particular graph:\n",
    "explanation = explainer(dataset[0].x, dataset[0].edge_index)\n",
    "print(explanation.edge_mask)"
   ]
  },
  {
   "cell_type": "code",
   "execution_count": null,
   "metadata": {},
   "outputs": [],
   "source": []
  }
 ],
 "metadata": {
  "kernelspec": {
   "display_name": "gnns",
   "language": "python",
   "name": "python3"
  },
  "language_info": {
   "codemirror_mode": {
    "name": "ipython",
    "version": 3
   },
   "file_extension": ".py",
   "mimetype": "text/x-python",
   "name": "python",
   "nbconvert_exporter": "python",
   "pygments_lexer": "ipython3",
   "version": "3.10.9"
  },
  "orig_nbformat": 4
 },
 "nbformat": 4,
 "nbformat_minor": 2
}
