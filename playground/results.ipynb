{
 "cells": [
  {
   "cell_type": "code",
   "execution_count": 4,
   "metadata": {},
   "outputs": [
    {
     "name": "stdout",
     "output_type": "stream",
     "text": [
      "best: 2004.8948744652976\n",
      "best: 55.17346359962641\n"
     ]
    }
   ],
   "source": [
    "#grid search s3\n",
    "# S3 baseline\n",
    "baseline = 7.117376804351807\n",
    "# S3 best\n",
    "print(f'best: {baseline/0.00355}')\n",
    "# S3 worst\n",
    "print(f'best: {baseline/0.129}')\n"
   ]
  },
  {
   "cell_type": "code",
   "execution_count": 1,
   "metadata": {},
   "outputs": [
    {
     "name": "stdout",
     "output_type": "stream",
     "text": [
      "best: 78.11818353930234\n",
      "best: 55.415086448192596\n"
     ]
    }
   ],
   "source": [
    "#grid search c6\n",
    "# C6 best\n",
    "baseline = 0.8866413831710815\n",
    "# C6 best\n",
    "print(f'best: {baseline/0.01135}')\n",
    "# C6 worst\n",
    "print(f'best: {baseline/0.016}')"
   ]
  },
  {
   "cell_type": "code",
   "execution_count": 3,
   "metadata": {},
   "outputs": [
    {
     "name": "stdout",
     "output_type": "stream",
     "text": [
      "Net GraphConv, Substructur S3: 676.2417104429279\n",
      "Net GIN, Substructur S3: 480.94599655405614\n",
      "Net GAT-V2, Substructur S3: 2.9785008740212158\n",
      "Net GraphSAGE, Substructur S3: 7.551256792492312\n"
     ]
    }
   ],
   "source": [
    "# experiments\n",
    "substructure = 'S3'\n",
    "baseline = 7.117376804351807\n",
    "results = {\n",
    "    'GraphConv': 0.010524900630116463,\n",
    "    'GIN': 0.014798702672123909,\n",
    "    'GAT-V2': 2.3895835876464844,\n",
    "    'GraphSAGE': 0.9425420165061951,\n",
    "}\n",
    "for net, result in results.items():\n",
    "    print(f'Net {net}, Substructur {substructure}: {baseline/result}')\n",
    "\n"
   ]
  },
  {
   "cell_type": "code",
   "execution_count": 4,
   "metadata": {},
   "outputs": [
    {
     "name": "stdout",
     "output_type": "stream",
     "text": [
      "Net GraphConv, Substructur S4: 41.794622144150864\n",
      "Net GIN, Substructur S4: 56.530966503093666\n",
      "Net GAT-V2, Substructur S4: 1.6992947091504051\n",
      "Net GraphSAGE, Substructur S4: 3.9881899620976515\n"
     ]
    }
   ],
   "source": [
    "# experiments\n",
    "substructure = 'S4'\n",
    "baseline = 0.3207929730415344\n",
    "results = {\n",
    "    'GraphConv': 0.007675460539758205,\n",
    "    'GIN': 0.005674641579389572,\n",
    "    'GAT-V2': 0.1887800693511963,\n",
    "    'GraphSAGE': 0.08043573051691055,\n",
    "}\n",
    "for net, result in results.items():\n",
    "    print(f'Net {net}, Substructur {substructure}: {baseline/result}')\n",
    "\n"
   ]
  },
  {
   "cell_type": "code",
   "execution_count": 5,
   "metadata": {},
   "outputs": [
    {
     "name": "stdout",
     "output_type": "stream",
     "text": [
      "Net GraphConv, Substructur C3: 4.693777385983962\n",
      "Net GIN, Substructur C3: 1.5137320678259212\n",
      "Net GAT-V2, Substructur C3: 0.9957291734520823\n",
      "Net GraphSAGE, Substructur C3: 1.0252256640365482\n"
     ]
    }
   ],
   "source": [
    "# experiments\n",
    "substructure = 'C3'\n",
    "baseline = 0.05666002258658409\n",
    "results = {\n",
    "    'GraphConv': 0.012071305885910988,\n",
    "    'GIN': 0.03743068128824234,\n",
    "    'GAT-V2': 0.05690304562449455,\n",
    "    'GraphSAGE': 0.055265903472900395,\n",
    "}\n",
    "for net, result in results.items():\n",
    "    print(f'Net {net}, Substructur {substructure}: {baseline/result}')"
   ]
  },
  {
   "cell_type": "code",
   "execution_count": 6,
   "metadata": {},
   "outputs": [
    {
     "name": "stdout",
     "output_type": "stream",
     "text": [
      "Net GraphConv, Substructur C6: 15.073045689432641\n",
      "Net GIN, Substructur C6: 4.5538509954659325\n",
      "Net GAT-V2, Substructur C6: 2.1048993182986218\n",
      "Net GraphSAGE, Substructur C6: 3.987459720967935\n"
     ]
    }
   ],
   "source": [
    "# experiments\n",
    "substructure = 'C6'\n",
    "baseline = 0.8866413831710815\n",
    "results = {\n",
    "    'GraphConv': 0.05882297456264496,\n",
    "    'GIN': 0.1947014480829239,\n",
    "    'GAT-V2': 0.42122745513916016,\n",
    "    'GraphSAGE': 0.22235745191574097,\n",
    "}\n",
    "for net, result in results.items():\n",
    "    print(f'Net {net}, Substructur {substructure}: {baseline/result}')"
   ]
  },
  {
   "cell_type": "markdown",
   "metadata": {},
   "source": []
  }
 ],
 "metadata": {
  "kernelspec": {
   "display_name": "gnns",
   "language": "python",
   "name": "python3"
  },
  "language_info": {
   "codemirror_mode": {
    "name": "ipython",
    "version": 3
   },
   "file_extension": ".py",
   "mimetype": "text/x-python",
   "name": "python",
   "nbconvert_exporter": "python",
   "pygments_lexer": "ipython3",
   "version": "3.10.9"
  }
 },
 "nbformat": 4,
 "nbformat_minor": 2
}
